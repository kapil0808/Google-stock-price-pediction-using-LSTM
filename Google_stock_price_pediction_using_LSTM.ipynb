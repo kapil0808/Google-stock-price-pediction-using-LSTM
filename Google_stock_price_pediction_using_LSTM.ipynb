{
  "nbformat": 4,
  "nbformat_minor": 0,
  "metadata": {
    "colab": {
      "name": "Google stock price pediction using LSTM.ipynb",
      "provenance": [],
      "authorship_tag": "ABX9TyPfXPzDJ2gvvIRMUHXUZlJs",
      "include_colab_link": true
    },
    "kernelspec": {
      "name": "python3",
      "display_name": "Python 3"
    }
  },
  "cells": [
    {
      "cell_type": "markdown",
      "metadata": {
        "id": "view-in-github",
        "colab_type": "text"
      },
      "source": [
        "<a href=\"https://colab.research.google.com/github/kapil0808/Google-stock-price-pediction-using-LSTM/blob/master/Google_stock_price_pediction_using_LSTM.ipynb\" target=\"_parent\"><img src=\"https://colab.research.google.com/assets/colab-badge.svg\" alt=\"Open In Colab\"/></a>"
      ]
    },
    {
      "cell_type": "code",
      "metadata": {
        "id": "jxGcxbf_eLW7",
        "colab_type": "code",
        "colab": {
          "base_uri": "https://localhost:8080/",
          "height": 122
        },
        "outputId": "6a6381d6-a6ef-41dd-8c26-95b4d23cc3fa"
      },
      "source": [
        "from google.colab import drive\n",
        "drive.mount('/content/drive/')"
      ],
      "execution_count": null,
      "outputs": [
        {
          "output_type": "stream",
          "text": [
            "Go to this URL in a browser: https://accounts.google.com/o/oauth2/auth?client_id=947318989803-6bn6qk8qdgf4n4g3pfee6491hc0brc4i.apps.googleusercontent.com&redirect_uri=urn%3aietf%3awg%3aoauth%3a2.0%3aoob&scope=email%20https%3a%2f%2fwww.googleapis.com%2fauth%2fdocs.test%20https%3a%2f%2fwww.googleapis.com%2fauth%2fdrive%20https%3a%2f%2fwww.googleapis.com%2fauth%2fdrive.photos.readonly%20https%3a%2f%2fwww.googleapis.com%2fauth%2fpeopleapi.readonly&response_type=code\n",
            "\n",
            "Enter your authorization code:\n",
            "··········\n",
            "Mounted at /content/drive/\n"
          ],
          "name": "stdout"
        }
      ]
    },
    {
      "cell_type": "code",
      "metadata": {
        "id": "m1fOuZrFeNrj",
        "colab_type": "code",
        "colab": {}
      },
      "source": [
        "import numpy as np\n",
        "import pandas as pd\n",
        "import matplotlib.pyplot as plt"
      ],
      "execution_count": null,
      "outputs": []
    },
    {
      "cell_type": "code",
      "metadata": {
        "id": "lWXBcSSAe2eH",
        "colab_type": "code",
        "colab": {
          "base_uri": "https://localhost:8080/",
          "height": 111
        },
        "outputId": "fcf12252-0d28-4778-ff60-f79b524c3fe1"
      },
      "source": [
        "dataset=pd.read_csv('/content/drive/My Drive/Colab Notebooks/Data/GOOG.csv',date_parser=True)\n",
        "dataset.head(2)"
      ],
      "execution_count": null,
      "outputs": [
        {
          "output_type": "execute_result",
          "data": {
            "text/html": [
              "<div>\n",
              "<style scoped>\n",
              "    .dataframe tbody tr th:only-of-type {\n",
              "        vertical-align: middle;\n",
              "    }\n",
              "\n",
              "    .dataframe tbody tr th {\n",
              "        vertical-align: top;\n",
              "    }\n",
              "\n",
              "    .dataframe thead th {\n",
              "        text-align: right;\n",
              "    }\n",
              "</style>\n",
              "<table border=\"1\" class=\"dataframe\">\n",
              "  <thead>\n",
              "    <tr style=\"text-align: right;\">\n",
              "      <th></th>\n",
              "      <th>Date</th>\n",
              "      <th>Open</th>\n",
              "      <th>High</th>\n",
              "      <th>Low</th>\n",
              "      <th>Close</th>\n",
              "      <th>Adj Close</th>\n",
              "      <th>Volume</th>\n",
              "    </tr>\n",
              "  </thead>\n",
              "  <tbody>\n",
              "    <tr>\n",
              "      <th>0</th>\n",
              "      <td>2004-08-19</td>\n",
              "      <td>49.813286</td>\n",
              "      <td>51.835709</td>\n",
              "      <td>47.800831</td>\n",
              "      <td>49.982655</td>\n",
              "      <td>49.982655</td>\n",
              "      <td>44871300</td>\n",
              "    </tr>\n",
              "    <tr>\n",
              "      <th>1</th>\n",
              "      <td>2004-08-20</td>\n",
              "      <td>50.316402</td>\n",
              "      <td>54.336334</td>\n",
              "      <td>50.062355</td>\n",
              "      <td>53.952770</td>\n",
              "      <td>53.952770</td>\n",
              "      <td>22942800</td>\n",
              "    </tr>\n",
              "  </tbody>\n",
              "</table>\n",
              "</div>"
            ],
            "text/plain": [
              "         Date       Open       High        Low      Close  Adj Close    Volume\n",
              "0  2004-08-19  49.813286  51.835709  47.800831  49.982655  49.982655  44871300\n",
              "1  2004-08-20  50.316402  54.336334  50.062355  53.952770  53.952770  22942800"
            ]
          },
          "metadata": {
            "tags": []
          },
          "execution_count": 4
        }
      ]
    },
    {
      "cell_type": "code",
      "metadata": {
        "id": "i_dOzH_QfPb7",
        "colab_type": "code",
        "colab": {
          "base_uri": "https://localhost:8080/",
          "height": 204
        },
        "outputId": "08bfbf42-3b5d-4706-da34-613750073f40"
      },
      "source": [
        "data_training=dataset[dataset['Date']<'2019-01-01'].copy()\n",
        "data_training.tail()"
      ],
      "execution_count": null,
      "outputs": [
        {
          "output_type": "execute_result",
          "data": {
            "text/html": [
              "<div>\n",
              "<style scoped>\n",
              "    .dataframe tbody tr th:only-of-type {\n",
              "        vertical-align: middle;\n",
              "    }\n",
              "\n",
              "    .dataframe tbody tr th {\n",
              "        vertical-align: top;\n",
              "    }\n",
              "\n",
              "    .dataframe thead th {\n",
              "        text-align: right;\n",
              "    }\n",
              "</style>\n",
              "<table border=\"1\" class=\"dataframe\">\n",
              "  <thead>\n",
              "    <tr style=\"text-align: right;\">\n",
              "      <th></th>\n",
              "      <th>Date</th>\n",
              "      <th>Open</th>\n",
              "      <th>High</th>\n",
              "      <th>Low</th>\n",
              "      <th>Close</th>\n",
              "      <th>Adj Close</th>\n",
              "      <th>Volume</th>\n",
              "    </tr>\n",
              "  </thead>\n",
              "  <tbody>\n",
              "    <tr>\n",
              "      <th>3612</th>\n",
              "      <td>2018-12-24</td>\n",
              "      <td>973.900024</td>\n",
              "      <td>1003.539978</td>\n",
              "      <td>970.109985</td>\n",
              "      <td>976.219971</td>\n",
              "      <td>976.219971</td>\n",
              "      <td>1590300</td>\n",
              "    </tr>\n",
              "    <tr>\n",
              "      <th>3613</th>\n",
              "      <td>2018-12-26</td>\n",
              "      <td>989.010010</td>\n",
              "      <td>1040.000000</td>\n",
              "      <td>983.000000</td>\n",
              "      <td>1039.459961</td>\n",
              "      <td>1039.459961</td>\n",
              "      <td>2373300</td>\n",
              "    </tr>\n",
              "    <tr>\n",
              "      <th>3614</th>\n",
              "      <td>2018-12-27</td>\n",
              "      <td>1017.150024</td>\n",
              "      <td>1043.890015</td>\n",
              "      <td>997.000000</td>\n",
              "      <td>1043.880005</td>\n",
              "      <td>1043.880005</td>\n",
              "      <td>2109800</td>\n",
              "    </tr>\n",
              "    <tr>\n",
              "      <th>3615</th>\n",
              "      <td>2018-12-28</td>\n",
              "      <td>1049.619995</td>\n",
              "      <td>1055.560059</td>\n",
              "      <td>1033.099976</td>\n",
              "      <td>1037.079956</td>\n",
              "      <td>1037.079956</td>\n",
              "      <td>1414800</td>\n",
              "    </tr>\n",
              "    <tr>\n",
              "      <th>3616</th>\n",
              "      <td>2018-12-31</td>\n",
              "      <td>1050.959961</td>\n",
              "      <td>1052.699951</td>\n",
              "      <td>1023.590027</td>\n",
              "      <td>1035.609985</td>\n",
              "      <td>1035.609985</td>\n",
              "      <td>1493300</td>\n",
              "    </tr>\n",
              "  </tbody>\n",
              "</table>\n",
              "</div>"
            ],
            "text/plain": [
              "            Date         Open         High  ...        Close    Adj Close   Volume\n",
              "3612  2018-12-24   973.900024  1003.539978  ...   976.219971   976.219971  1590300\n",
              "3613  2018-12-26   989.010010  1040.000000  ...  1039.459961  1039.459961  2373300\n",
              "3614  2018-12-27  1017.150024  1043.890015  ...  1043.880005  1043.880005  2109800\n",
              "3615  2018-12-28  1049.619995  1055.560059  ...  1037.079956  1037.079956  1414800\n",
              "3616  2018-12-31  1050.959961  1052.699951  ...  1035.609985  1035.609985  1493300\n",
              "\n",
              "[5 rows x 7 columns]"
            ]
          },
          "metadata": {
            "tags": []
          },
          "execution_count": 8
        }
      ]
    },
    {
      "cell_type": "code",
      "metadata": {
        "id": "01btba3jgKZh",
        "colab_type": "code",
        "colab": {
          "base_uri": "https://localhost:8080/",
          "height": 204
        },
        "outputId": "6c17f603-9252-4e35-d4d7-6854a4648376"
      },
      "source": [
        "data_test=dataset[dataset['Date']>='2019-01-01'].copy()\n",
        "data_test.tail()"
      ],
      "execution_count": null,
      "outputs": [
        {
          "output_type": "execute_result",
          "data": {
            "text/html": [
              "<div>\n",
              "<style scoped>\n",
              "    .dataframe tbody tr th:only-of-type {\n",
              "        vertical-align: middle;\n",
              "    }\n",
              "\n",
              "    .dataframe tbody tr th {\n",
              "        vertical-align: top;\n",
              "    }\n",
              "\n",
              "    .dataframe thead th {\n",
              "        text-align: right;\n",
              "    }\n",
              "</style>\n",
              "<table border=\"1\" class=\"dataframe\">\n",
              "  <thead>\n",
              "    <tr style=\"text-align: right;\">\n",
              "      <th></th>\n",
              "      <th>Date</th>\n",
              "      <th>Open</th>\n",
              "      <th>High</th>\n",
              "      <th>Low</th>\n",
              "      <th>Close</th>\n",
              "      <th>Adj Close</th>\n",
              "      <th>Volume</th>\n",
              "    </tr>\n",
              "  </thead>\n",
              "  <tbody>\n",
              "    <tr>\n",
              "      <th>4019</th>\n",
              "      <td>2020-08-06</td>\n",
              "      <td>1471.750000</td>\n",
              "      <td>1502.390015</td>\n",
              "      <td>1466.000000</td>\n",
              "      <td>1500.099976</td>\n",
              "      <td>1500.099976</td>\n",
              "      <td>1995400</td>\n",
              "    </tr>\n",
              "    <tr>\n",
              "      <th>4020</th>\n",
              "      <td>2020-08-07</td>\n",
              "      <td>1500.000000</td>\n",
              "      <td>1516.844971</td>\n",
              "      <td>1481.640015</td>\n",
              "      <td>1494.489990</td>\n",
              "      <td>1494.489990</td>\n",
              "      <td>1576600</td>\n",
              "    </tr>\n",
              "    <tr>\n",
              "      <th>4021</th>\n",
              "      <td>2020-08-10</td>\n",
              "      <td>1487.180054</td>\n",
              "      <td>1504.074951</td>\n",
              "      <td>1473.079956</td>\n",
              "      <td>1496.099976</td>\n",
              "      <td>1496.099976</td>\n",
              "      <td>1289300</td>\n",
              "    </tr>\n",
              "    <tr>\n",
              "      <th>4022</th>\n",
              "      <td>2020-08-11</td>\n",
              "      <td>1492.439941</td>\n",
              "      <td>1510.000000</td>\n",
              "      <td>1478.000000</td>\n",
              "      <td>1480.319946</td>\n",
              "      <td>1480.319946</td>\n",
              "      <td>1454400</td>\n",
              "    </tr>\n",
              "    <tr>\n",
              "      <th>4023</th>\n",
              "      <td>2020-08-12</td>\n",
              "      <td>1485.579956</td>\n",
              "      <td>1512.385986</td>\n",
              "      <td>1485.250000</td>\n",
              "      <td>1506.619995</td>\n",
              "      <td>1506.619995</td>\n",
              "      <td>1437000</td>\n",
              "    </tr>\n",
              "  </tbody>\n",
              "</table>\n",
              "</div>"
            ],
            "text/plain": [
              "            Date         Open         High  ...        Close    Adj Close   Volume\n",
              "4019  2020-08-06  1471.750000  1502.390015  ...  1500.099976  1500.099976  1995400\n",
              "4020  2020-08-07  1500.000000  1516.844971  ...  1494.489990  1494.489990  1576600\n",
              "4021  2020-08-10  1487.180054  1504.074951  ...  1496.099976  1496.099976  1289300\n",
              "4022  2020-08-11  1492.439941  1510.000000  ...  1480.319946  1480.319946  1454400\n",
              "4023  2020-08-12  1485.579956  1512.385986  ...  1506.619995  1506.619995  1437000\n",
              "\n",
              "[5 rows x 7 columns]"
            ]
          },
          "metadata": {
            "tags": []
          },
          "execution_count": 9
        }
      ]
    },
    {
      "cell_type": "code",
      "metadata": {
        "id": "KbiHvP-4gXK-",
        "colab_type": "code",
        "colab": {
          "base_uri": "https://localhost:8080/",
          "height": 204
        },
        "outputId": "25482b78-967c-45d0-dc5c-4d589e5f021c"
      },
      "source": [
        "data_training=data_training.drop(['Date','Adj Close'],axis=1)\n",
        "data_training.head()"
      ],
      "execution_count": null,
      "outputs": [
        {
          "output_type": "execute_result",
          "data": {
            "text/html": [
              "<div>\n",
              "<style scoped>\n",
              "    .dataframe tbody tr th:only-of-type {\n",
              "        vertical-align: middle;\n",
              "    }\n",
              "\n",
              "    .dataframe tbody tr th {\n",
              "        vertical-align: top;\n",
              "    }\n",
              "\n",
              "    .dataframe thead th {\n",
              "        text-align: right;\n",
              "    }\n",
              "</style>\n",
              "<table border=\"1\" class=\"dataframe\">\n",
              "  <thead>\n",
              "    <tr style=\"text-align: right;\">\n",
              "      <th></th>\n",
              "      <th>Open</th>\n",
              "      <th>High</th>\n",
              "      <th>Low</th>\n",
              "      <th>Close</th>\n",
              "      <th>Volume</th>\n",
              "    </tr>\n",
              "  </thead>\n",
              "  <tbody>\n",
              "    <tr>\n",
              "      <th>0</th>\n",
              "      <td>49.813286</td>\n",
              "      <td>51.835709</td>\n",
              "      <td>47.800831</td>\n",
              "      <td>49.982655</td>\n",
              "      <td>44871300</td>\n",
              "    </tr>\n",
              "    <tr>\n",
              "      <th>1</th>\n",
              "      <td>50.316402</td>\n",
              "      <td>54.336334</td>\n",
              "      <td>50.062355</td>\n",
              "      <td>53.952770</td>\n",
              "      <td>22942800</td>\n",
              "    </tr>\n",
              "    <tr>\n",
              "      <th>2</th>\n",
              "      <td>55.168217</td>\n",
              "      <td>56.528118</td>\n",
              "      <td>54.321388</td>\n",
              "      <td>54.495735</td>\n",
              "      <td>18342800</td>\n",
              "    </tr>\n",
              "    <tr>\n",
              "      <th>3</th>\n",
              "      <td>55.412300</td>\n",
              "      <td>55.591629</td>\n",
              "      <td>51.591621</td>\n",
              "      <td>52.239193</td>\n",
              "      <td>15319700</td>\n",
              "    </tr>\n",
              "    <tr>\n",
              "      <th>4</th>\n",
              "      <td>52.284027</td>\n",
              "      <td>53.798351</td>\n",
              "      <td>51.746044</td>\n",
              "      <td>52.802086</td>\n",
              "      <td>9232100</td>\n",
              "    </tr>\n",
              "  </tbody>\n",
              "</table>\n",
              "</div>"
            ],
            "text/plain": [
              "        Open       High        Low      Close    Volume\n",
              "0  49.813286  51.835709  47.800831  49.982655  44871300\n",
              "1  50.316402  54.336334  50.062355  53.952770  22942800\n",
              "2  55.168217  56.528118  54.321388  54.495735  18342800\n",
              "3  55.412300  55.591629  51.591621  52.239193  15319700\n",
              "4  52.284027  53.798351  51.746044  52.802086   9232100"
            ]
          },
          "metadata": {
            "tags": []
          },
          "execution_count": 12
        }
      ]
    },
    {
      "cell_type": "code",
      "metadata": {
        "id": "oilY-_KFg3hp",
        "colab_type": "code",
        "colab": {}
      },
      "source": [
        "from sklearn.preprocessing import StandardScaler,MinMaxScaler"
      ],
      "execution_count": null,
      "outputs": []
    },
    {
      "cell_type": "code",
      "metadata": {
        "id": "IYWd6QlbhTZL",
        "colab_type": "code",
        "colab": {
          "base_uri": "https://localhost:8080/",
          "height": 238
        },
        "outputId": "acb25766-1283-4cdf-9274-fbe4281a8815"
      },
      "source": [
        "scaler=MinMaxScaler()\n",
        "data_training=scaler.fit_transform(data_training)\n",
        "data_training"
      ],
      "execution_count": null,
      "outputs": [
        {
          "output_type": "execute_result",
          "data": {
            "text/plain": [
              "array([[3.30294890e-04, 9.44785459e-04, 0.00000000e+00, 1.34908021e-04,\n",
              "        5.43577404e-01],\n",
              "       [7.42148227e-04, 2.98909923e-03, 1.88269054e-03, 3.39307537e-03,\n",
              "        2.77885613e-01],\n",
              "       [4.71386886e-03, 4.78092896e-03, 5.42828241e-03, 3.83867225e-03,\n",
              "        2.22150736e-01],\n",
              "       ...,\n",
              "       [7.92197108e-01, 8.11970141e-01, 7.90196475e-01, 8.15799920e-01,\n",
              "        2.54672037e-02],\n",
              "       [8.18777193e-01, 8.21510648e-01, 8.20249255e-01, 8.10219301e-01,\n",
              "        1.70463908e-02],\n",
              "       [8.19874096e-01, 8.19172449e-01, 8.12332341e-01, 8.09012935e-01,\n",
              "        1.79975186e-02]])"
            ]
          },
          "metadata": {
            "tags": []
          },
          "execution_count": 14
        }
      ]
    },
    {
      "cell_type": "code",
      "metadata": {
        "id": "dyUb1omRhsOQ",
        "colab_type": "code",
        "colab": {
          "base_uri": "https://localhost:8080/",
          "height": 34
        },
        "outputId": "bdc3be57-05ab-4a99-d880-465a1a882c09"
      },
      "source": [
        "data_training.shape[0]"
      ],
      "execution_count": null,
      "outputs": [
        {
          "output_type": "execute_result",
          "data": {
            "text/plain": [
              "3617"
            ]
          },
          "metadata": {
            "tags": []
          },
          "execution_count": 17
        }
      ]
    },
    {
      "cell_type": "code",
      "metadata": {
        "id": "HUlSFow4hxeV",
        "colab_type": "code",
        "colab": {}
      },
      "source": [
        "x_train=[]\n",
        "y_train=[]\n",
        "for i in range(60,data_training.shape[0]):\n",
        "  x_train.append(data_training[i-60:i])\n",
        "  y_train.append(data_training[i,0])\n",
        "x_train,y_train=np.array(x_train),np.array(y_train)"
      ],
      "execution_count": null,
      "outputs": []
    },
    {
      "cell_type": "code",
      "metadata": {
        "id": "XULfgPNujc5e",
        "colab_type": "code",
        "colab": {
          "base_uri": "https://localhost:8080/",
          "height": 34
        },
        "outputId": "e36c844c-a657-415a-ef02-3ff17511ccbe"
      },
      "source": [
        "x_train.shape"
      ],
      "execution_count": null,
      "outputs": [
        {
          "output_type": "execute_result",
          "data": {
            "text/plain": [
              "(3557, 60, 5)"
            ]
          },
          "metadata": {
            "tags": []
          },
          "execution_count": 23
        }
      ]
    },
    {
      "cell_type": "code",
      "metadata": {
        "id": "_MmVmi8pjqo6",
        "colab_type": "code",
        "colab": {
          "base_uri": "https://localhost:8080/",
          "height": 34
        },
        "outputId": "79fbc2d5-c67a-43f3-ad20-de8f9c8cb352"
      },
      "source": [
        "y_train.shape"
      ],
      "execution_count": null,
      "outputs": [
        {
          "output_type": "execute_result",
          "data": {
            "text/plain": [
              "(3557,)"
            ]
          },
          "metadata": {
            "tags": []
          },
          "execution_count": 24
        }
      ]
    },
    {
      "cell_type": "code",
      "metadata": {
        "id": "lywB6BcUjs2p",
        "colab_type": "code",
        "colab": {}
      },
      "source": [
        "from tensorflow.keras import Sequential\n",
        "from tensorflow.keras.layers import Dense,LSTM,Dropout"
      ],
      "execution_count": null,
      "outputs": []
    },
    {
      "cell_type": "code",
      "metadata": {
        "id": "ZKEjol3_kX0g",
        "colab_type": "code",
        "colab": {}
      },
      "source": [
        "regressior=Sequential()\n",
        "regressior.add(LSTM(units=50,activation='relu',return_sequences=True,input_shape=(x_train.shape[1],x_train.shape[2])))\n",
        "regressior.add(Dropout(0.2))"
      ],
      "execution_count": null,
      "outputs": []
    },
    {
      "cell_type": "code",
      "metadata": {
        "id": "yJVudDbpli2c",
        "colab_type": "code",
        "colab": {}
      },
      "source": [
        "regressior.add(LSTM(units=60,activation='relu',return_sequences=True))\n",
        "regressior.add(Dropout(0.3))"
      ],
      "execution_count": null,
      "outputs": []
    },
    {
      "cell_type": "code",
      "metadata": {
        "id": "IVFgEZ33ljw1",
        "colab_type": "code",
        "colab": {}
      },
      "source": [
        "regressior.add(LSTM(units=80,activation='relu',return_sequences=True))\n",
        "regressior.add(Dropout(0.4))"
      ],
      "execution_count": null,
      "outputs": []
    },
    {
      "cell_type": "code",
      "metadata": {
        "id": "gJSzezrxmG5R",
        "colab_type": "code",
        "colab": {}
      },
      "source": [
        "regressior.add(LSTM(units=120,activation='relu'))\n",
        "regressior.add(Dropout(0.5))"
      ],
      "execution_count": null,
      "outputs": []
    },
    {
      "cell_type": "code",
      "metadata": {
        "id": "7uF6EI9AmUu1",
        "colab_type": "code",
        "colab": {}
      },
      "source": [
        "regressior.add(Dense(units=1))"
      ],
      "execution_count": null,
      "outputs": []
    },
    {
      "cell_type": "code",
      "metadata": {
        "id": "nPOxnp3_macC",
        "colab_type": "code",
        "colab": {
          "base_uri": "https://localhost:8080/",
          "height": 459
        },
        "outputId": "4e8e32ef-f38d-4c99-b828-a6a11a2ab221"
      },
      "source": [
        "regressior.summary()"
      ],
      "execution_count": null,
      "outputs": [
        {
          "output_type": "stream",
          "text": [
            "Model: \"sequential_2\"\n",
            "_________________________________________________________________\n",
            "Layer (type)                 Output Shape              Param #   \n",
            "=================================================================\n",
            "lstm_5 (LSTM)                (None, 60, 50)            11200     \n",
            "_________________________________________________________________\n",
            "dropout_4 (Dropout)          (None, 60, 50)            0         \n",
            "_________________________________________________________________\n",
            "lstm_6 (LSTM)                (None, 60, 60)            26640     \n",
            "_________________________________________________________________\n",
            "dropout_5 (Dropout)          (None, 60, 60)            0         \n",
            "_________________________________________________________________\n",
            "lstm_7 (LSTM)                (None, 60, 80)            45120     \n",
            "_________________________________________________________________\n",
            "dropout_6 (Dropout)          (None, 60, 80)            0         \n",
            "_________________________________________________________________\n",
            "lstm_8 (LSTM)                (None, 120)               96480     \n",
            "_________________________________________________________________\n",
            "dropout_7 (Dropout)          (None, 120)               0         \n",
            "_________________________________________________________________\n",
            "dense (Dense)                (None, 1)                 121       \n",
            "=================================================================\n",
            "Total params: 179,561\n",
            "Trainable params: 179,561\n",
            "Non-trainable params: 0\n",
            "_________________________________________________________________\n"
          ],
          "name": "stdout"
        }
      ]
    },
    {
      "cell_type": "code",
      "metadata": {
        "id": "Fr2mkj3Tmfy4",
        "colab_type": "code",
        "colab": {}
      },
      "source": [
        "regressior.compile(optimizer='adam',loss=\"mean_squared_error\")"
      ],
      "execution_count": null,
      "outputs": []
    },
    {
      "cell_type": "code",
      "metadata": {
        "id": "lQvEZFPsm6nW",
        "colab_type": "code",
        "colab": {
          "base_uri": "https://localhost:8080/",
          "height": 374
        },
        "outputId": "d80f81d7-9dec-4de1-896e-d4c2f50eea6f"
      },
      "source": [
        "regressior.fit(x_train,y_train,epochs=10,batch_size=32)"
      ],
      "execution_count": null,
      "outputs": [
        {
          "output_type": "stream",
          "text": [
            "Epoch 1/10\n",
            "112/112 [==============================] - 16s 145ms/step - loss: 0.0126\n",
            "Epoch 2/10\n",
            "112/112 [==============================] - 17s 151ms/step - loss: 0.0047\n",
            "Epoch 3/10\n",
            "112/112 [==============================] - 17s 148ms/step - loss: 0.0041\n",
            "Epoch 4/10\n",
            "112/112 [==============================] - 17s 148ms/step - loss: 0.0044\n",
            "Epoch 5/10\n",
            "112/112 [==============================] - 17s 150ms/step - loss: 0.0031\n",
            "Epoch 6/10\n",
            "112/112 [==============================] - 17s 150ms/step - loss: 0.0030\n",
            "Epoch 7/10\n",
            "112/112 [==============================] - 17s 150ms/step - loss: 0.0027\n",
            "Epoch 8/10\n",
            "112/112 [==============================] - 17s 150ms/step - loss: 0.0027\n",
            "Epoch 9/10\n",
            "112/112 [==============================] - 17s 149ms/step - loss: 0.0024\n",
            "Epoch 10/10\n",
            "112/112 [==============================] - 17s 148ms/step - loss: 0.0025\n"
          ],
          "name": "stdout"
        },
        {
          "output_type": "execute_result",
          "data": {
            "text/plain": [
              "<tensorflow.python.keras.callbacks.History at 0x7fd2a73077f0>"
            ]
          },
          "metadata": {
            "tags": []
          },
          "execution_count": 41
        }
      ]
    },
    {
      "cell_type": "code",
      "metadata": {
        "id": "Co5jFz4snLrL",
        "colab_type": "code",
        "colab": {
          "base_uri": "https://localhost:8080/",
          "height": 204
        },
        "outputId": "f19ff4fe-e44e-4333-9e8b-7cc3cc2bb37b"
      },
      "source": [
        "df=dataset[len(dataset)-len(data_test)-60:]\n",
        "df=df.drop(['Date','Adj Close'],axis=1)\n",
        "df.head()"
      ],
      "execution_count": null,
      "outputs": [
        {
          "output_type": "execute_result",
          "data": {
            "text/html": [
              "<div>\n",
              "<style scoped>\n",
              "    .dataframe tbody tr th:only-of-type {\n",
              "        vertical-align: middle;\n",
              "    }\n",
              "\n",
              "    .dataframe tbody tr th {\n",
              "        vertical-align: top;\n",
              "    }\n",
              "\n",
              "    .dataframe thead th {\n",
              "        text-align: right;\n",
              "    }\n",
              "</style>\n",
              "<table border=\"1\" class=\"dataframe\">\n",
              "  <thead>\n",
              "    <tr style=\"text-align: right;\">\n",
              "      <th></th>\n",
              "      <th>Open</th>\n",
              "      <th>High</th>\n",
              "      <th>Low</th>\n",
              "      <th>Close</th>\n",
              "      <th>Volume</th>\n",
              "    </tr>\n",
              "  </thead>\n",
              "  <tbody>\n",
              "    <tr>\n",
              "      <th>3557</th>\n",
              "      <td>1195.329956</td>\n",
              "      <td>1197.510010</td>\n",
              "      <td>1155.576050</td>\n",
              "      <td>1168.189941</td>\n",
              "      <td>2209500</td>\n",
              "    </tr>\n",
              "    <tr>\n",
              "      <th>3558</th>\n",
              "      <td>1167.500000</td>\n",
              "      <td>1173.500000</td>\n",
              "      <td>1145.119995</td>\n",
              "      <td>1157.349976</td>\n",
              "      <td>1184300</td>\n",
              "    </tr>\n",
              "    <tr>\n",
              "      <th>3559</th>\n",
              "      <td>1150.109985</td>\n",
              "      <td>1168.000000</td>\n",
              "      <td>1127.364014</td>\n",
              "      <td>1148.969971</td>\n",
              "      <td>1932400</td>\n",
              "    </tr>\n",
              "    <tr>\n",
              "      <th>3560</th>\n",
              "      <td>1146.150024</td>\n",
              "      <td>1154.349976</td>\n",
              "      <td>1137.572021</td>\n",
              "      <td>1138.819946</td>\n",
              "      <td>1308700</td>\n",
              "    </tr>\n",
              "    <tr>\n",
              "      <th>3561</th>\n",
              "      <td>1131.079956</td>\n",
              "      <td>1132.170044</td>\n",
              "      <td>1081.130005</td>\n",
              "      <td>1081.219971</td>\n",
              "      <td>2675700</td>\n",
              "    </tr>\n",
              "  </tbody>\n",
              "</table>\n",
              "</div>"
            ],
            "text/plain": [
              "             Open         High          Low        Close   Volume\n",
              "3557  1195.329956  1197.510010  1155.576050  1168.189941  2209500\n",
              "3558  1167.500000  1173.500000  1145.119995  1157.349976  1184300\n",
              "3559  1150.109985  1168.000000  1127.364014  1148.969971  1932400\n",
              "3560  1146.150024  1154.349976  1137.572021  1138.819946  1308700\n",
              "3561  1131.079956  1132.170044  1081.130005  1081.219971  2675700"
            ]
          },
          "metadata": {
            "tags": []
          },
          "execution_count": 48
        }
      ]
    },
    {
      "cell_type": "code",
      "metadata": {
        "id": "-Xm-Ell1t_iB",
        "colab_type": "code",
        "colab": {
          "base_uri": "https://localhost:8080/",
          "height": 136
        },
        "outputId": "a5d20cb4-779d-4941-cddc-f8a2bcd305b5"
      },
      "source": [
        "inputs=scaler.fit_transform(df)\n",
        "inputs"
      ],
      "execution_count": null,
      "outputs": [
        {
          "output_type": "execute_result",
          "data": {
            "text/plain": [
              "array([[0.36117037, 0.33245356, 0.31748644, 0.32412576, 0.31777455],\n",
              "       [0.31577743, 0.29130177, 0.29958744, 0.30582336, 0.14281082],\n",
              "       [0.28741289, 0.28187509, 0.26919222, 0.2916744 , 0.27048383],\n",
              "       ...,\n",
              "       [0.83720181, 0.85788836, 0.86099925, 0.87777532, 0.16073044],\n",
              "       [0.84578112, 0.86804355, 0.86942153, 0.85113202, 0.1889069 ],\n",
              "       [0.83459192, 0.872133  , 0.8818323 , 0.89553752, 0.18593737]])"
            ]
          },
          "metadata": {
            "tags": []
          },
          "execution_count": 49
        }
      ]
    },
    {
      "cell_type": "code",
      "metadata": {
        "id": "MxYQfnUjvN6S",
        "colab_type": "code",
        "colab": {}
      },
      "source": [
        "x_test=[]\n",
        "y_test=[]\n",
        "for i in range(60,inputs.shape[0]):\n",
        "  x_test.append(inputs[i-60:i])\n",
        "  y_test.append(inputs[i,0])\n",
        "x_test,y_test=np.array(x_test),np.array(y_test)"
      ],
      "execution_count": null,
      "outputs": []
    },
    {
      "cell_type": "code",
      "metadata": {
        "id": "w76Delqywtyq",
        "colab_type": "code",
        "colab": {
          "base_uri": "https://localhost:8080/",
          "height": 34
        },
        "outputId": "2e54d18d-5b29-4b73-b2e1-814f4c76681d"
      },
      "source": [
        "x_test.shape,y_test.shape"
      ],
      "execution_count": null,
      "outputs": [
        {
          "output_type": "execute_result",
          "data": {
            "text/plain": [
              "((407, 60, 5), (407,))"
            ]
          },
          "metadata": {
            "tags": []
          },
          "execution_count": 52
        }
      ]
    },
    {
      "cell_type": "code",
      "metadata": {
        "id": "eUqHyOWpw537",
        "colab_type": "code",
        "colab": {}
      },
      "source": [
        "y_pred=regressior.predict(x_test)"
      ],
      "execution_count": null,
      "outputs": []
    },
    {
      "cell_type": "code",
      "metadata": {
        "id": "eF_OMAruxNfa",
        "colab_type": "code",
        "colab": {
          "base_uri": "https://localhost:8080/",
          "height": 51
        },
        "outputId": "b9e6e68e-10d5-4482-c6dd-056aaca70117"
      },
      "source": [
        "scaler.scale_\n"
      ],
      "execution_count": null,
      "outputs": [
        {
          "output_type": "execute_result",
          "data": {
            "text/plain": [
              "array([1.63108199e-03, 1.71394289e-03, 1.71183033e-03, 1.68841908e-03,\n",
              "       1.70663026e-07])"
            ]
          },
          "metadata": {
            "tags": []
          },
          "execution_count": 57
        }
      ]
    },
    {
      "cell_type": "code",
      "metadata": {
        "id": "-LBF5ReAxra4",
        "colab_type": "code",
        "colab": {
          "base_uri": "https://localhost:8080/",
          "height": 34
        },
        "outputId": "3bd8884a-e8b6-4f9e-f63b-19930f5d9800"
      },
      "source": [
        "scale=1/1.63108199e-03\n",
        "scale"
      ],
      "execution_count": null,
      "outputs": [
        {
          "output_type": "execute_result",
          "data": {
            "text/plain": [
              "613.0899649011512"
            ]
          },
          "metadata": {
            "tags": []
          },
          "execution_count": 58
        }
      ]
    },
    {
      "cell_type": "code",
      "metadata": {
        "id": "048lP4UWzPx2",
        "colab_type": "code",
        "colab": {}
      },
      "source": [
        "y_pred=y_pred*scale\n",
        "y_test=y_test*scale"
      ],
      "execution_count": null,
      "outputs": []
    },
    {
      "cell_type": "code",
      "metadata": {
        "id": "bXlVWOY8zcsL",
        "colab_type": "code",
        "colab": {
          "base_uri": "https://localhost:8080/",
          "height": 1000
        },
        "outputId": "d520db54-5370-4ee3-e861-eef258594aa0"
      },
      "source": [
        "y_pred"
      ],
      "execution_count": null,
      "outputs": [
        {
          "output_type": "execute_result",
          "data": {
            "text/plain": [
              "array([[ 79.74197 ],\n",
              "       [ 78.66398 ],\n",
              "       [ 77.63683 ],\n",
              "       [ 76.708015],\n",
              "       [ 75.935356],\n",
              "       [ 75.36722 ],\n",
              "       [ 75.04635 ],\n",
              "       [ 74.977356],\n",
              "       [ 75.12981 ],\n",
              "       [ 75.45614 ],\n",
              "       [ 75.9089  ],\n",
              "       [ 76.48918 ],\n",
              "       [ 77.19831 ],\n",
              "       [ 78.04537 ],\n",
              "       [ 79.010574],\n",
              "       [ 80.04266 ],\n",
              "       [ 81.110855],\n",
              "       [ 82.18682 ],\n",
              "       [ 83.253136],\n",
              "       [ 84.28345 ],\n",
              "       [ 85.28123 ],\n",
              "       [ 86.249695],\n",
              "       [ 87.179565],\n",
              "       [ 88.105095],\n",
              "       [ 89.026245],\n",
              "       [ 89.94503 ],\n",
              "       [ 90.81831 ],\n",
              "       [ 91.649345],\n",
              "       [ 92.51454 ],\n",
              "       [ 93.46482 ],\n",
              "       [ 94.58254 ],\n",
              "       [ 95.92114 ],\n",
              "       [ 97.4275  ],\n",
              "       [ 99.09637 ],\n",
              "       [100.923836],\n",
              "       [102.88529 ],\n",
              "       [104.90595 ],\n",
              "       [106.93823 ],\n",
              "       [108.88514 ],\n",
              "       [110.69491 ],\n",
              "       [112.34891 ],\n",
              "       [113.904526],\n",
              "       [115.43318 ],\n",
              "       [117.05557 ],\n",
              "       [118.84355 ],\n",
              "       [120.78854 ],\n",
              "       [122.839195],\n",
              "       [124.96761 ],\n",
              "       [127.20723 ],\n",
              "       [129.64279 ],\n",
              "       [132.3382  ],\n",
              "       [135.27774 ],\n",
              "       [138.41206 ],\n",
              "       [141.70924 ],\n",
              "       [145.13344 ],\n",
              "       [148.67108 ],\n",
              "       [152.26816 ],\n",
              "       [155.83368 ],\n",
              "       [159.26595 ],\n",
              "       [162.46205 ],\n",
              "       [165.34499 ],\n",
              "       [167.86499 ],\n",
              "       [170.02766 ],\n",
              "       [171.88579 ],\n",
              "       [173.52077 ],\n",
              "       [175.02113 ],\n",
              "       [176.46178 ],\n",
              "       [177.88899 ],\n",
              "       [179.3081  ],\n",
              "       [180.71284 ],\n",
              "       [182.10101 ],\n",
              "       [183.47717 ],\n",
              "       [184.84485 ],\n",
              "       [186.22314 ],\n",
              "       [187.63254 ],\n",
              "       [189.09174 ],\n",
              "       [190.62529 ],\n",
              "       [192.26129 ],\n",
              "       [194.02771 ],\n",
              "       [195.93912 ],\n",
              "       [198.00304 ],\n",
              "       [200.19386 ],\n",
              "       [202.28716 ],\n",
              "       [204.05412 ],\n",
              "       [205.32967 ],\n",
              "       [206.03801 ],\n",
              "       [206.17194 ],\n",
              "       [205.76764 ],\n",
              "       [204.89616 ],\n",
              "       [203.62917 ],\n",
              "       [202.01215 ],\n",
              "       [200.07127 ],\n",
              "       [197.80435 ],\n",
              "       [195.2282  ],\n",
              "       [192.41502 ],\n",
              "       [189.4656  ],\n",
              "       [186.43286 ],\n",
              "       [183.37589 ],\n",
              "       [180.36731 ],\n",
              "       [177.44276 ],\n",
              "       [174.63394 ],\n",
              "       [171.95059 ],\n",
              "       [169.35292 ],\n",
              "       [166.81018 ],\n",
              "       [164.27002 ],\n",
              "       [161.5187  ],\n",
              "       [158.2954  ],\n",
              "       [154.41475 ],\n",
              "       [149.74626 ],\n",
              "       [144.26648 ],\n",
              "       [138.32433 ],\n",
              "       [132.29231 ],\n",
              "       [126.58249 ],\n",
              "       [121.42992 ],\n",
              "       [116.935585],\n",
              "       [113.15323 ],\n",
              "       [110.114815],\n",
              "       [107.72999 ],\n",
              "       [105.93339 ],\n",
              "       [104.66766 ],\n",
              "       [103.89508 ],\n",
              "       [103.52936 ],\n",
              "       [103.44877 ],\n",
              "       [103.53521 ],\n",
              "       [103.68035 ],\n",
              "       [103.83939 ],\n",
              "       [104.01232 ],\n",
              "       [104.24193 ],\n",
              "       [104.5771  ],\n",
              "       [105.051   ],\n",
              "       [105.69624 ],\n",
              "       [106.592804],\n",
              "       [107.83858 ],\n",
              "       [109.443665],\n",
              "       [111.36442 ],\n",
              "       [113.54106 ],\n",
              "       [115.95804 ],\n",
              "       [118.56824 ],\n",
              "       [121.24594 ],\n",
              "       [123.88938 ],\n",
              "       [126.44566 ],\n",
              "       [128.8625  ],\n",
              "       [131.06195 ],\n",
              "       [133.17067 ],\n",
              "       [135.3845  ],\n",
              "       [137.9088  ],\n",
              "       [140.86742 ],\n",
              "       [144.25107 ],\n",
              "       [147.90105 ],\n",
              "       [151.57849 ],\n",
              "       [155.08888 ],\n",
              "       [158.28964 ],\n",
              "       [161.13963 ],\n",
              "       [163.65633 ],\n",
              "       [165.85416 ],\n",
              "       [167.76929 ],\n",
              "       [169.40561 ],\n",
              "       [170.76053 ],\n",
              "       [171.85414 ],\n",
              "       [172.75453 ],\n",
              "       [173.52786 ],\n",
              "       [174.24725 ],\n",
              "       [174.96252 ],\n",
              "       [175.63808 ],\n",
              "       [176.22284 ],\n",
              "       [176.6906  ],\n",
              "       [177.02907 ],\n",
              "       [177.273   ],\n",
              "       [177.47076 ],\n",
              "       [177.62636 ],\n",
              "       [177.74712 ],\n",
              "       [177.87453 ],\n",
              "       [178.06683 ],\n",
              "       [178.35596 ],\n",
              "       [178.75868 ],\n",
              "       [179.29471 ],\n",
              "       [179.99806 ],\n",
              "       [180.88933 ],\n",
              "       [181.97374 ],\n",
              "       [183.24413 ],\n",
              "       [184.67822 ],\n",
              "       [186.26126 ],\n",
              "       [187.93619 ],\n",
              "       [189.66264 ],\n",
              "       [191.38626 ],\n",
              "       [193.06644 ],\n",
              "       [194.68445 ],\n",
              "       [196.21992 ],\n",
              "       [197.64046 ],\n",
              "       [198.91125 ],\n",
              "       [199.95924 ],\n",
              "       [200.7125  ],\n",
              "       [201.15819 ],\n",
              "       [201.33817 ],\n",
              "       [201.29344 ],\n",
              "       [201.07806 ],\n",
              "       [200.75078 ],\n",
              "       [200.37332 ],\n",
              "       [200.00632 ],\n",
              "       [199.7087  ],\n",
              "       [199.54906 ],\n",
              "       [199.60205 ],\n",
              "       [199.90137 ],\n",
              "       [200.45683 ],\n",
              "       [201.2539  ],\n",
              "       [202.27972 ],\n",
              "       [203.52396 ],\n",
              "       [204.96053 ],\n",
              "       [206.55098 ],\n",
              "       [208.24155 ],\n",
              "       [209.97713 ],\n",
              "       [211.70929 ],\n",
              "       [213.40654 ],\n",
              "       [215.07729 ],\n",
              "       [216.76074 ],\n",
              "       [218.4919  ],\n",
              "       [220.29646 ],\n",
              "       [222.21298 ],\n",
              "       [224.26053 ],\n",
              "       [226.43846 ],\n",
              "       [228.73375 ],\n",
              "       [231.12448 ],\n",
              "       [233.59326 ],\n",
              "       [236.1273  ],\n",
              "       [238.70741 ],\n",
              "       [241.28136 ],\n",
              "       [243.79788 ],\n",
              "       [246.1963  ],\n",
              "       [248.4432  ],\n",
              "       [250.53427 ],\n",
              "       [252.48341 ],\n",
              "       [254.31496 ],\n",
              "       [255.9941  ],\n",
              "       [257.47836 ],\n",
              "       [258.7646  ],\n",
              "       [259.89664 ],\n",
              "       [260.949   ],\n",
              "       [262.00143 ],\n",
              "       [263.1242  ],\n",
              "       [264.38126 ],\n",
              "       [265.80035 ],\n",
              "       [267.37    ],\n",
              "       [269.0822  ],\n",
              "       [270.9006  ],\n",
              "       [272.78723 ],\n",
              "       [274.70346 ],\n",
              "       [276.55267 ],\n",
              "       [278.30435 ],\n",
              "       [279.9775  ],\n",
              "       [281.61044 ],\n",
              "       [283.22903 ],\n",
              "       [284.8188  ],\n",
              "       [286.34146 ],\n",
              "       [287.77893 ],\n",
              "       [289.13177 ],\n",
              "       [290.4172  ],\n",
              "       [291.6984  ],\n",
              "       [293.0464  ],\n",
              "       [294.5544  ],\n",
              "       [296.29883 ],\n",
              "       [298.3405  ],\n",
              "       [300.71042 ],\n",
              "       [303.42694 ],\n",
              "       [306.51346 ],\n",
              "       [309.94946 ],\n",
              "       [313.71725 ],\n",
              "       [317.82788 ],\n",
              "       [322.2857  ],\n",
              "       [327.01477 ],\n",
              "       [331.79294 ],\n",
              "       [336.43658 ],\n",
              "       [340.86215 ],\n",
              "       [345.00156 ],\n",
              "       [348.74344 ],\n",
              "       [352.02393 ],\n",
              "       [354.73465 ],\n",
              "       [356.86603 ],\n",
              "       [358.50732 ],\n",
              "       [359.8243  ],\n",
              "       [361.01498 ],\n",
              "       [362.29898 ],\n",
              "       [363.87866 ],\n",
              "       [365.8969  ],\n",
              "       [368.4112  ],\n",
              "       [371.42325 ],\n",
              "       [374.91504 ],\n",
              "       [378.80566 ],\n",
              "       [382.8826  ],\n",
              "       [386.69766 ],\n",
              "       [389.8241  ],\n",
              "       [391.9631  ],\n",
              "       [392.84683 ],\n",
              "       [392.25354 ],\n",
              "       [390.19757 ],\n",
              "       [386.8356  ],\n",
              "       [382.41785 ],\n",
              "       [377.1408  ],\n",
              "       [371.1088  ],\n",
              "       [364.30786 ],\n",
              "       [356.79797 ],\n",
              "       [348.65173 ],\n",
              "       [339.86673 ],\n",
              "       [330.48746 ],\n",
              "       [320.5687  ],\n",
              "       [310.18524 ],\n",
              "       [299.40192 ],\n",
              "       [288.33502 ],\n",
              "       [277.04205 ],\n",
              "       [265.26355 ],\n",
              "       [253.00856 ],\n",
              "       [240.4086  ],\n",
              "       [227.79385 ],\n",
              "       [215.4874  ],\n",
              "       [203.77707 ],\n",
              "       [192.98495 ],\n",
              "       [183.22449 ],\n",
              "       [174.49835 ],\n",
              "       [166.7234  ],\n",
              "       [159.97847 ],\n",
              "       [154.383   ],\n",
              "       [150.00864 ],\n",
              "       [146.8898  ],\n",
              "       [145.00652 ],\n",
              "       [144.4199  ],\n",
              "       [145.22935 ],\n",
              "       [147.32028 ],\n",
              "       [150.38048 ],\n",
              "       [154.16728 ],\n",
              "       [158.4182  ],\n",
              "       [162.93623 ],\n",
              "       [167.60701 ],\n",
              "       [172.33688 ],\n",
              "       [177.07434 ],\n",
              "       [181.71446 ],\n",
              "       [186.25029 ],\n",
              "       [190.73521 ],\n",
              "       [195.21458 ],\n",
              "       [199.72185 ],\n",
              "       [204.32216 ],\n",
              "       [209.08667 ],\n",
              "       [214.07352 ],\n",
              "       [219.34364 ],\n",
              "       [224.94196 ],\n",
              "       [230.8564  ],\n",
              "       [236.94386 ],\n",
              "       [243.00522 ],\n",
              "       [248.88289 ],\n",
              "       [254.48332 ],\n",
              "       [259.78342 ],\n",
              "       [264.81223 ],\n",
              "       [269.6295  ],\n",
              "       [274.29434 ],\n",
              "       [278.856   ],\n",
              "       [283.32324 ],\n",
              "       [287.69092 ],\n",
              "       [291.9558  ],\n",
              "       [296.14737 ],\n",
              "       [300.3007  ],\n",
              "       [304.4523  ],\n",
              "       [308.56406 ],\n",
              "       [312.57355 ],\n",
              "       [316.45728 ],\n",
              "       [320.2478  ],\n",
              "       [323.99756 ],\n",
              "       [327.61575 ],\n",
              "       [330.974   ],\n",
              "       [333.9722  ],\n",
              "       [336.60718 ],\n",
              "       [338.933   ],\n",
              "       [341.00308 ],\n",
              "       [342.78543 ],\n",
              "       [344.30502 ],\n",
              "       [345.65536 ],\n",
              "       [346.8966  ],\n",
              "       [348.06778 ],\n",
              "       [348.9758  ],\n",
              "       [349.46628 ],\n",
              "       [349.497   ],\n",
              "       [349.13788 ],\n",
              "       [348.5584  ],\n",
              "       [348.00305 ],\n",
              "       [347.7185  ],\n",
              "       [347.91168 ],\n",
              "       [348.7424  ],\n",
              "       [350.29706 ],\n",
              "       [352.5962  ],\n",
              "       [355.55246 ],\n",
              "       [359.05225 ],\n",
              "       [362.94858 ],\n",
              "       [367.10965 ],\n",
              "       [371.47446 ],\n",
              "       [376.08746 ],\n",
              "       [381.00085 ],\n",
              "       [386.1173  ],\n",
              "       [391.22794 ],\n",
              "       [396.19272 ],\n",
              "       [400.84583 ],\n",
              "       [405.1046  ],\n",
              "       [408.9053  ],\n",
              "       [412.0428  ],\n",
              "       [414.3802  ],\n",
              "       [415.8701  ],\n",
              "       [416.541   ],\n",
              "       [416.4904  ],\n",
              "       [415.8874  ],\n",
              "       [414.91122 ],\n",
              "       [413.7142  ]], dtype=float32)"
            ]
          },
          "metadata": {
            "tags": []
          },
          "execution_count": 60
        }
      ]
    },
    {
      "cell_type": "code",
      "metadata": {
        "id": "nN5Qm7E2zgnR",
        "colab_type": "code",
        "colab": {
          "base_uri": "https://localhost:8080/",
          "height": 1000
        },
        "outputId": "426d0dee-47b8-460f-f4be-d8c0b1f372ca"
      },
      "source": [
        "y_test"
      ],
      "execution_count": null,
      "outputs": [
        {
          "output_type": "execute_result",
          "data": {
            "text/plain": [
              "array([ 42.66998292,  67.09997588,  58.68994189,  97.59997583,\n",
              "       102.20996082, 107.74999981,  93.76000983,  89.28002984,\n",
              "        73.02001987,  76.27001986, 106.09997581, 105.56994681,\n",
              "       126.09997577, 114.0999758 , 103.44995181, 102.57995582,\n",
              "       111.0999758 , 106.20996081,  98.78002982,  94.53002983,\n",
              "       129.09997577, 138.49999975, 138.76000975, 150.93994173,\n",
              "       165.6699217 , 130.26000977, 113.0999758 , 123.04992678,\n",
              "       132.90002476, 151.08996573, 144.15002474, 156.17993172,\n",
              "       136.09997576, 146.08996574, 136.93994175, 126.99999977,\n",
              "       142.09997575, 131.84997576, 133.04992676, 137.40002475,\n",
              "       150.99999973, 173.08996569, 176.16003468, 188.58996566,\n",
              "       181.81994667, 152.82995573, 170.54992669, 204.35998563,\n",
              "       226.74499559, 220.6099856 , 219.47998061, 209.40002462,\n",
              "       214.91003461, 223.4499516 , 242.09997557, 252.41992155,\n",
              "       223.0300296 , 224.6300046 , 211.59997562, 197.64001465,\n",
              "       200.99999964, 210.19995162, 221.4199216 , 233.57995558,\n",
              "       232.03991658, 241.08996557, 233.98999058, 222.0999756 ,\n",
              "       226.78002959, 230.05993659, 236.09997558, 244.09997556,\n",
              "       251.09997555, 259.09997554, 265.28002952, 262.08996553,\n",
              "       276.7899165 , 290.21997048, 290.86999548, 295.09997547,\n",
              "       300.09997546, 211.09997562, 214.15002462, 193.85998565,\n",
              "       199.74999964, 192.35998566, 206.56994663, 198.10998564,\n",
              "       185.13000467, 189.68994166, 168.0599367 , 163.30993671,\n",
              "       143.96997074, 190.60998566, 194.56994665, 170.59997569,\n",
              "       174.58996569, 172.84997569, 166.5999757 , 173.45996069,\n",
              "       160.09997571, 153.61999572, 141.64001475, 127.39001477,\n",
              "        91.59997584,  68.99999988,  77.64001486,  71.08996587,\n",
              "        76.72998086,  99.07995582, 120.07995578, 104.09997581,\n",
              "       109.7399908 , 112.5200198 , 112.3800048 , 135.78991676,\n",
              "       131.69995176, 146.08996574, 135.33996576, 145.70996074,\n",
              "       138.76000975, 112.5999758 , 110.0999758 , 102.48999082,\n",
              "       124.09997578, 128.33996577, 143.51000974, 143.90002474,\n",
              "       151.27001973, 137.90002475, 157.31994672, 169.3499757 ,\n",
              "       170.0899657 , 172.95996069, 172.09997569, 177.06994668,\n",
              "       167.8399657 , 174.28991669, 159.54992671, 170.0999757 ,\n",
              "       157.99999972, 163.91992171, 250.14001455, 267.15002452,\n",
              "       251.51000955, 249.09997555, 240.13000457, 226.83996559,\n",
              "       196.14001465, 189.41003466, 182.09997567, 208.92993163,\n",
              "       224.0899656 , 205.30993663, 197.55993665, 202.41003464,\n",
              "       189.59997566, 205.65002463, 216.18994161, 221.3499756 ,\n",
              "       219.24999961, 220.16992161, 208.08996563, 183.35998567,\n",
              "       206.63000463, 187.80993666, 207.21997063, 224.5999756 ,\n",
              "       203.13000464, 202.80993664, 217.63000461, 234.22998058,\n",
              "       230.09997559, 221.2499996 , 229.51000959, 250.40002455,\n",
              "       257.44995154, 255.61999554, 256.49999954, 253.60998555,\n",
              "       258.16003454, 259.21997054, 252.09997555, 266.09997552,\n",
              "       241.91992157, 268.05993652, 269.10998552, 247.06994656,\n",
              "       245.09997556, 223.0799556 , 206.09997563, 217.98999061,\n",
              "       230.49999959, 223.6899416 , 225.4499516 , 224.6799316 ,\n",
              "       248.30993655, 238.43994157, 246.49999956, 267.27001952,\n",
              "       277.0300295 , 279.5599365 , 278.3599855 , 273.94995151,\n",
              "       268.45996052, 286.99999949, 277.1300045 , 301.54992646,\n",
              "       302.32995546, 279.0699465 , 287.38000448, 291.09997548,\n",
              "       302.54992646, 318.98999043, 315.55993643, 320.38000443,\n",
              "       331.38000441, 329.28002941, 326.09997542, 320.16992143,\n",
              "       323.59997542, 345.03991638, 358.31994636, 353.79992637,\n",
              "       337.83996539, 327.57995541, 331.71997041, 325.28002942,\n",
              "       335.9599604 , 341.09997539, 333.2199704 , 327.09997541,\n",
              "       305.66992145, 333.1099854 , 354.09997537, 359.53991636,\n",
              "       364.14001435, 367.59997534, 376.93994132, 372.03991633,\n",
              "       374.04992633, 382.59997531, 388.9899903 , 382.69995131,\n",
              "       377.91992132, 389.4499513 , 381.96997032, 374.59997533,\n",
              "       372.27001933, 389.0899653 , 376.09997533, 356.20996036,\n",
              "       367.65002434, 373.95996033, 376.09997533, 424.03991624,\n",
              "       418.17993125, 446.6699212 , 453.66003419, 462.22998017,\n",
              "       465.10998517, 456.30993618, 473.53991615, 489.01000912,\n",
              "       505.21997009, 517.09997507, 513.73999008, 519.68994107,\n",
              "       457.09997518, 469.09997516, 484.90002413, 466.05993616,\n",
              "       494.99999911, 488.09997513, 483.16992113, 488.52001912,\n",
              "       476.42993115, 493.40002412, 500.4199211 , 537.91003404,\n",
              "       540.57995503, 538.78991603, 541.69995103, 541.09997503,\n",
              "       551.16992101, 548.09997502, 534.13000404, 452.20996019,\n",
              "       459.09997518, 422.23999024, 388.1600343 , 303.59997546,\n",
              "       377.70996032, 425.52001924, 385.32995531, 376.29992633,\n",
              "       303.16003446, 231.40002459, 286.09997549, 275.79992651,\n",
              "       152.09997573, 205.09997563, 122.09997578, 119.20996079,\n",
              "        82.60998585, 119.15002479, 161.81994671,  87.41992184,\n",
              "       129.86999577, 152.56994673, 137.90002475, 151.77001973,\n",
              "       151.14001473, 173.40002469, 148.09997573, 124.35998578,\n",
              "       145.11499074, 164.09997571, 247.09997556, 232.59997558,\n",
              "       250.17993155, 235.28002958, 271.18994151, 271.70996051,\n",
              "       300.19995146, 310.94995144, 297.09997547, 273.09997551,\n",
              "       271.64001451, 297.65002447, 287.27001949, 322.09997542,\n",
              "       314.03002944, 367.55993634, 350.97998037, 354.59997536,\n",
              "       334.3299554 , 364.02001935, 387.7899163 , 392.0399163 ,\n",
              "       409.22998027, 404.38000428, 433.21997022, 403.15002428,\n",
              "       361.11999535, 376.09997533, 387.8499753 , 413.09692326,\n",
              "       415.67993125, 434.09997522, 422.80993624, 463.36999517,\n",
              "       443.34997521, 422.95996024, 443.03991621, 444.4899902 ,\n",
              "       456.65002418, 464.40002417, 456.49999918, 439.27001921,\n",
              "       448.4399412 , 471.45996015, 485.64001413, 468.57995516,\n",
              "       454.58996519, 416.90002425, 471.31994616, 473.26000915,\n",
              "       475.26000915, 470.09997516, 455.09997518, 481.73999014,\n",
              "       487.60998513, 455.99999918, 457.48999018, 384.28002931,\n",
              "       416.53991625, 437.19995122, 473.03991615, 506.16003409,\n",
              "       516.09997507, 520.41992107, 532.54992605, 532.24999905,\n",
              "       576.09997497, 516.41003407, 549.22998002, 526.09997506,\n",
              "       547.71997002, 541.35998503, 613.0899649 , 586.59997495,\n",
              "       593.06994594, 525.03002906, 541.69995103, 551.28002901,\n",
              "       532.41992105, 523.09997506, 531.10998505, 512.73999008,\n",
              "       502.6699211 , 495.40002411, 497.84997511, 526.09997506,\n",
              "       513.28002908, 518.53991607, 511.67993108])"
            ]
          },
          "metadata": {
            "tags": []
          },
          "execution_count": 61
        }
      ]
    },
    {
      "cell_type": "code",
      "metadata": {
        "id": "sKz_rZsTziVe",
        "colab_type": "code",
        "colab": {
          "base_uri": "https://localhost:8080/",
          "height": 295
        },
        "outputId": "93ef96f1-c0a4-466a-a13b-92fe189e57a1"
      },
      "source": [
        "plt.plot(y_test, color = 'red', label = 'Real Google Stock Price')\n",
        "plt.plot(y_pred, color = 'blue', label = 'Predicted Google Stock Price')\n",
        "plt.title('Google Stock Price Prediction')\n",
        "plt.xlabel('Time')\n",
        "plt.ylabel('Google Stock Price')\n",
        "plt.legend()\n",
        "plt.show()"
      ],
      "execution_count": null,
      "outputs": [
        {
          "output_type": "display_data",
          "data": {
            "image/png": "[encoded data removed]",
            "text/plain": [
              "<Figure size 432x288 with 1 Axes>"
            ]
          },
          "metadata": {
            "tags": [],
            "needs_background": "light"
          }
        }
      ]
    },
    {
      "cell_type": "code",
      "metadata": {
        "id": "YGvgGBG7z8yq",
        "colab_type": "code",
        "colab": {}
      },
      "source": [
        ""
      ],
      "execution_count": null,
      "outputs": []
    }
  ]
}